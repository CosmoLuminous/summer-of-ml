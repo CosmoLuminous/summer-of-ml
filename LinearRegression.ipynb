{
 "cells": [
  {
   "cell_type": "code",
   "execution_count": 3,
   "metadata": {},
   "outputs": [],
   "source": [
    "'''\n",
    "*********************************************************\n",
    "** Day2 Summer of ML 2021\n",
    "** Least Squares Linear Regression via Gradient Descent\n",
    "** @Author: Aman Bhardwaj\n",
    "** @Date: 16-Jan-2021\n",
    "*********************************************************\n",
    "'''\n",
    "\n",
    "# import modules\n",
    "%matplotlib widget\n",
    "import numpy as np\n",
    "import pandas as pd\n",
    "import matplotlib.pyplot as plt\n",
    "from mpl_toolkits.mplot3d import Axes3D \n",
    "from matplotlib import cm\n",
    "plt.ion()"
   ]
  },
  {
   "cell_type": "code",
   "execution_count": 37,
   "metadata": {},
   "outputs": [],
   "source": [
    "#standardize data\n",
    "def std_data(Z):\n",
    "    Z = (Z-np.mean(Z))/np.std(Z)\n",
    "    return Z"
   ]
  },
  {
   "cell_type": "code",
   "execution_count": 102,
   "metadata": {},
   "outputs": [
    {
     "name": "stdout",
     "output_type": "stream",
     "text": [
      "Original Parameters THETA0 = 1, THETA1 = -0.5\n",
      "Number of Features = 1\n",
      "Number of Samples = 100\n"
     ]
    },
    {
     "data": {
      "application/vnd.jupyter.widget-view+json": {
       "model_id": "c30540e6656f41e298676c3b963be708",
       "version_major": 2,
       "version_minor": 0
      },
      "text/plain": [
       "Canvas(toolbar=Toolbar(toolitems=[('Home', 'Reset original view', 'home', 'home'), ('Back', 'Back to previous …"
      ]
     },
     "metadata": {},
     "output_type": "display_data"
    }
   ],
   "source": [
    "# Generate Data\n",
    "N = 100\n",
    "T0 = -0.5     # THETA0\n",
    "T1 = 1          # THETA1\n",
    "THETA = np.array([T1, T0]).reshape(-1,1)\n",
    "X = 5*np.random.rand(N,1)\n",
    "# X = std_data(X)\n",
    "X = np.c_[X, np.ones(N)]\n",
    "\n",
    "noise = 0.8*np.random.randn(N).reshape(-1,1)\n",
    "Y = X @ THETA + noise    # Y = X*Theta + e\n",
    "# Y = std_data(Y)\n",
    "\n",
    "print(\"Original Parameters THETA0 = {}, THETA1 = {}\".format(T1,T0))\n",
    "print(\"Number of Features = {}\".format(1))\n",
    "print(\"Number of Samples = {}\".format(N))\n",
    "# Plot Original Data\n",
    "fig = plt.figure()\n",
    "plt.plot(X[:, 0], Y, '.')\n",
    "plt.xlabel(\"Feature\")\n",
    "plt.ylabel(\"Labels\")\n",
    "plt.legend(\"data points\")\n",
    "plt.title(\"Original Data\")\n",
    "plt.show()"
   ]
  },
  {
   "cell_type": "code",
   "execution_count": 108,
   "metadata": {},
   "outputs": [],
   "source": [
    "def mse_loss(Y, X, THETA):\n",
    "    '''\n",
    "    Loss/Objective Function.\n",
    "    Mean Squared Error / Least Squared Error\n",
    "    \n",
    "    INPUTS:\n",
    "    X: Data Features\n",
    "    Y: Labels\n",
    "    THETA: Parameters\n",
    "    \n",
    "    RETURNS:\n",
    "    mse: Mean Squared Loss Value\n",
    "    '''\n",
    "    n = len(Y)\n",
    "    sum_of_least_sq = sum((Y- X @ THETA)**2)\n",
    "    \n",
    "    mse = sum_of_least_sq/2*n\n",
    "    return mse\n",
    "\n",
    "def gradient(Y, X, THETA):\n",
    "    '''\n",
    "    Gradient for Loss/Objective Function.\n",
    "    \n",
    "    INPUTS:\n",
    "    X: Data Features\n",
    "    Y: Labels\n",
    "    THETA: Parameters\n",
    "    \n",
    "    RETURNS:\n",
    "    grad: Gradient Shape = (2,1)\n",
    "    '''\n",
    "        \n",
    "    temp = Y - X @ THETA\n",
    "    grad = -0.5*(X.T @ temp)\n",
    "    return grad\n",
    "\n",
    "def gradient_descent(X, Y, lr = 0.001, max_iter = 10000, eps = 1e-6):\n",
    "    '''\n",
    "    Gradient Descent Algorithm for Linear Regression\n",
    "    \n",
    "    INPUTS:\n",
    "    X: Data Features\n",
    "    Y: Labels\n",
    "    lr: learning rate / step size\n",
    "    max_iter = stopping criteria maximum number of iterations\n",
    "    eps = stopping criteria for relative error change\n",
    "    \n",
    "    RETURNS:\n",
    "    theta: Calculated Model Parameters Shape = (2,1)\n",
    "    error_list: error values for each iteration\n",
    "    '''\n",
    "    \n",
    "    iteration = 0\n",
    "    theta = np.zeros(2).reshape(-1,1)    #Initialize Weights to ZERO\n",
    "    J = mse_loss(Y, X, theta)\n",
    "    error_list = [J[0]]\n",
    "    error_change = 100\n",
    "    t0_list = [0]\n",
    "    t1_list = [0]\n",
    "    \n",
    "    while iteration < max_iter and error_change > eps:\n",
    "        iteration += 1\n",
    "        \n",
    "        grad = gradient(Y, X, theta)    #Calculate Gradient  \n",
    "        theta = theta - lr*grad         #Update Weights\n",
    "        \n",
    "        J = mse_loss(Y, X, theta)       # Calculate Error\n",
    "        \n",
    "        error_change = (error_list[-1] - J)/J    #relative error change\n",
    "        \n",
    "        #keep track of values\n",
    "        error_list.append(J[0])   \n",
    "        t0_list.append(round(theta[1][0],4))\n",
    "        t1_list.append(round(theta[0][0],4))\n",
    "    \n",
    "    return theta, error_list, t0_list, t1_list\n",
    "\n",
    "def get_decision_line(theta):\n",
    "    x = np.linspace(0, max(X[:,0]), 20)\n",
    "    x = np.c_[x, np.ones(20)]    \n",
    "    y = x @ theta\n",
    "    return x,y"
   ]
  },
  {
   "cell_type": "code",
   "execution_count": 116,
   "metadata": {},
   "outputs": [
    {
     "name": "stdout",
     "output_type": "stream",
     "text": [
      "Original Value of THETA1 = 1\n",
      "Estimated Value of THETA1 = 1.038\n",
      "Original Value of THETA0 = -0.5\n",
      "Estimated Value of THETA0 = -0.5892\n"
     ]
    },
    {
     "data": {
      "application/vnd.jupyter.widget-view+json": {
       "model_id": "0685fe88628141b8b222be791d8c83ff",
       "version_major": 2,
       "version_minor": 0
      },
      "text/plain": [
       "Canvas(toolbar=Toolbar(toolitems=[('Home', 'Reset original view', 'home', 'home'), ('Back', 'Back to previous …"
      ]
     },
     "metadata": {},
     "output_type": "display_data"
    },
    {
     "data": {
      "application/vnd.jupyter.widget-view+json": {
       "model_id": "669b90d025ea46e7886a3a71c58ad468",
       "version_major": 2,
       "version_minor": 0
      },
      "text/plain": [
       "Canvas(toolbar=Toolbar(toolitems=[('Home', 'Reset original view', 'home', 'home'), ('Back', 'Back to previous …"
      ]
     },
     "metadata": {},
     "output_type": "display_data"
    }
   ],
   "source": [
    "# perform gradient descent\n",
    "THETA_recon, J_list, T0_list, T1_list = gradient_descent(X, Y, lr = 0.0005)\n",
    "print(\"Original Value of THETA1 =\", T1)\n",
    "print(\"Estimated Value of THETA1 =\", round(THETA_recon[0][0],4))\n",
    "print(\"Original Value of THETA0 =\", T0)\n",
    "print(\"Estimated Value of THETA0 =\", round(THETA_recon[1][0],4))\n",
    "\n",
    "# Plot Data\n",
    "fig = plt.figure()\n",
    "plt.plot(J_list[35:])\n",
    "plt.xlabel(\"Feature\")\n",
    "plt.ylabel(\"Labels\")\n",
    "plt.title(\"Model Estimate\")\n",
    "plt.show()\n",
    "\n",
    "# Plot Data\n",
    "fig = plt.figure()\n",
    "plt.plot(X[:, 0], Y, '.')\n",
    "x, y = get_decision_line(np.array(THETA_recon).reshape(-1,1))\n",
    "plt.plot(x[:,0], y)\n",
    "x, y = get_decision_line(np.array(THETA).reshape(-1,1))\n",
    "plt.plot(x[:,0], y, marker='o', color='red',fillstyle = 'full', linestyle='dotted', markersize=2,  zorder= 10)\n",
    "plt.xlabel(\"Feature\")\n",
    "plt.ylabel(\"Labels\")\n",
    "plt.title(\"Model Estimate\")\n",
    "plt.show()"
   ]
  },
  {
   "cell_type": "code",
   "execution_count": 93,
   "metadata": {},
   "outputs": [],
   "source": [
    "def surface_plot(t0, t1, jtList, animate):\n",
    "    '''\n",
    "    Plot 3D surface plot to demonstrate gradient descent\n",
    "    \n",
    "    INPUTS:\n",
    "    t0: (List) THETA0 values per iteration\n",
    "    t1: (List) THETA1 values per iteration\n",
    "    jtList: (List) Loss function values per iteration\n",
    "    animate: (Boolean)\n",
    "    '''\n",
    "    \n",
    "    \n",
    "    #Mesh for 3D Plot\n",
    "    xGrid = np.linspace(-2,2,25)\n",
    "    yGrid = np.linspace(0,1,25)\n",
    "    xGrid, yGrid = np.meshgrid(xGrid, yGrid)\n",
    "    J = np.zeros(xGrid.shape)\n",
    "\n",
    "    gridValues = np.array([xGrid.flatten(), yGrid.flatten()])\n",
    "    gridValues = gridValues.T\n",
    "    jThetaValues = []\n",
    "    for row in gridValues:\n",
    "        jThetaValues.append(mse_loss(Y, X, row.reshape(-1,1))/10)\n",
    "    \n",
    "    J = np.array(jThetaValues).reshape(xGrid.shape)\n",
    "#     plt.ion()\n",
    "#     if(animate):\n",
    "#         plt.ion()\n",
    "#         %matplotlib widget\n",
    "#     else:\n",
    "#         %matplotlib inline\n",
    "    \n",
    "    figS = plt.figure()\n",
    "    ax =  figS.gca(projection=\"3d\")\n",
    "    \n",
    "    sPlot = ax.plot_surface(xGrid, yGrid, J,cmap='cool', edgecolor='none', zorder=5)\n",
    "    ax.set_title('3D Mesh with Error Function Converge')\n",
    "#     ax.set_xlabel('Theta0', labelpad=5)\n",
    "#     ax.set_ylabel('Theta1', labelpad=5)\n",
    "    ax.set_zlabel('J(theta)',labelpad=5)\n",
    "    figS.colorbar(sPlot)\n",
    "    #ax.view_init()\n",
    "    #plt.show()\n",
    "    if animate:\n",
    "        for i in range(len(jtList) - 1):\n",
    "            \n",
    "            ax.plot([t0[i], t0[i + 1]], [t1[i], t1[i + 1]], [jtList[i], jtList[i + 1]], \n",
    "                    color='red', marker='o',fillstyle = 'full', linestyle='dotted', markersize=5,  zorder= 10)\n",
    "            figS.canvas.draw()            \n",
    "            plt.pause(0.1)\n",
    "    else:\n",
    "        \n",
    "        ax.plot(t0, t1, jtList, 'ro', fillstyle = 'full', linestyle='dotted', markersize=3, zorder= 10)\n",
    "#         plt.show()\n",
    "    \n",
    "#     plt.show()\n",
    "        \n",
    "    return"
   ]
  },
  {
   "cell_type": "code",
   "execution_count": 117,
   "metadata": {},
   "outputs": [
    {
     "data": {
      "application/vnd.jupyter.widget-view+json": {
       "model_id": "9a6addf1c36740e9b2155196bef3bc0a",
       "version_major": 2,
       "version_minor": 0
      },
      "text/plain": [
       "Canvas(toolbar=Toolbar(toolitems=[('Home', 'Reset original view', 'home', 'home'), ('Back', 'Back to previous …"
      ]
     },
     "metadata": {},
     "output_type": "display_data"
    }
   ],
   "source": [
    "surface_plot(T0_list[1:], T1_list[1:], J_list[1:], False)"
   ]
  },
  {
   "cell_type": "code",
   "execution_count": null,
   "metadata": {},
   "outputs": [],
   "source": []
  },
  {
   "cell_type": "code",
   "execution_count": null,
   "metadata": {},
   "outputs": [],
   "source": []
  },
  {
   "cell_type": "code",
   "execution_count": null,
   "metadata": {},
   "outputs": [],
   "source": []
  },
  {
   "cell_type": "code",
   "execution_count": null,
   "metadata": {},
   "outputs": [],
   "source": []
  }
 ],
 "metadata": {
  "kernelspec": {
   "display_name": "Python 3",
   "language": "python",
   "name": "python3"
  },
  "language_info": {
   "codemirror_mode": {
    "name": "ipython",
    "version": 3
   },
   "file_extension": ".py",
   "mimetype": "text/x-python",
   "name": "python",
   "nbconvert_exporter": "python",
   "pygments_lexer": "ipython3",
   "version": "3.7.10"
  }
 },
 "nbformat": 4,
 "nbformat_minor": 4
}
